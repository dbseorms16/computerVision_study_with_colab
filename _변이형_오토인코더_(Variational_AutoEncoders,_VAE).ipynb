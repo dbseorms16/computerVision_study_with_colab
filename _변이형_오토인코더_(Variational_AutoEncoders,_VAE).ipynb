{
  "nbformat": 4,
  "nbformat_minor": 0,
  "metadata": {
    "colab": {
      "name": "_변이형 오토인코더 (Variational AutoEncoders, VAE).ipynb",
      "provenance": [],
      "collapsed_sections": [],
      "include_colab_link": true
    },
    "kernelspec": {
      "name": "python3",
      "display_name": "Python 3"
    },
    "accelerator": "GPU"
  },
  "cells": [
    {
      "cell_type": "markdown",
      "metadata": {
        "id": "view-in-github",
        "colab_type": "text"
      },
      "source": [
        "<a href=\"https://colab.research.google.com/github/dbseorms16/computerVision_study_with_colab/blob/main/_%EB%B3%80%EC%9D%B4%ED%98%95_%EC%98%A4%ED%86%A0%EC%9D%B8%EC%BD%94%EB%8D%94_(Variational_AutoEncoders%2C_VAE).ipynb\" target=\"_parent\"><img src=\"https://colab.research.google.com/assets/colab-badge.svg\" alt=\"Open In Colab\"/></a>"
      ]
    },
    {
      "cell_type": "markdown",
      "metadata": {
        "id": "nP_60ssUVlU0"
      },
      "source": [
        "# 이미지 생성 모델\n",
        "\n",
        "- 이미지 잠재 공간에서 샘플링하여 완전히 새로운 이미지나 기존 이미지를 변형시키는 방식의 주요 기법\n",
        "  - 변이형 오토인코더(Variational AutoEncoders, VAE)\n",
        "  \n",
        "  - 적대적 생성 네트워크(Generative Adversarial Networks, GAN)\n",
        "\n",
        "- 잠재 공간의 한 포인트를 입력으로 받아 이미지(픽셀의 그리드)를 출력하는 모듈을 VAE에서는 디코더(decoder)라고 함"
      ]
    },
    {
      "cell_type": "markdown",
      "metadata": {
        "id": "3G-2CNkNYvZI"
      },
      "source": [
        "## 잠재 공간(Latent Space)\n",
        "\n",
        "<img src=\"https://images.deepai.org/converted-papers/2007.08383/x1.png\">\n",
        "\n",
        "<sub>[이미지 출처] https://deepai.org/publication/deep-learning-in-protein-structural-modeling-and-design</sub>"
      ]
    },
    {
      "cell_type": "markdown",
      "metadata": {
        "id": "oM5AhdH7AGgf"
      },
      "source": [
        "# 변이형 오토인코더(Variational AutoEncoders, VAE)\n",
        "\n",
        "- 입력 이미지를 잠재 공간의 고정된 코딩으로 압축하는 대신  \n",
        "  이미지를 어떤 통계 분포의 파라미터로 변환 \n",
        "  \n",
        "- 평균과 분산 파라미터를 사용하여 이 분포에서 무작위로 하나의 샘플을 추출\n",
        "\n",
        "- 해당 샘플을 디코딩하여 원본 입력으로 복원\n",
        "\n",
        "- 위 과정은 안정성을 향상, 잠재 공간 어디에서든 의미있는 표현을 인코딩하게 함\n",
        "\n",
        "  <img src=\"https://image.slidesharecdn.com/variationalautoencoder-170601084514/95/variational-autoencoder-21-638.jpg?cb=1496306885\">\n",
        "\n",
        "  <sub>[이미지 출력] https://www.slideshare.net/ssuser06e0c5/variational-autoencoder-76552518</sub>\n",
        "\n",
        "  <br>\n",
        "\n",
        "- VAE의 훈련\n",
        "\n",
        "  - 디코딩된 샘플이 원본 입력과 동일하도록 만드는 재구성 손실(reconstruction loss)\n",
        "\n",
        "  - 잠재 공간을 잘 형성하고 훈련 데이터에 과적합을 줄이는 규제 손실(regularization loss)\n",
        "\n",
        "- VAE 구현의 pseudocode\n",
        "\n",
        "      z_mean, z_log_var = encoder(input_img)\n",
        "      \n",
        "      z = z_mean + exp(0.5 * z_log_var) * epsilon\n",
        "\n",
        "      recontructed_img = decoder(z)\n",
        "\n",
        "      model = Model(input_img, reconstructed_img)\n",
        "\n",
        "      재구성 손실과 규제 손실을 사용하여 훈련\n",
        "  \n",
        "  "
      ]
    },
    {
      "cell_type": "markdown",
      "metadata": {
        "id": "i6TPr96HOE2b"
      },
      "source": [
        "# Convolutional VAE\n",
        "\n",
        "- MNIST Dataset\n",
        "\n",
        "- 코드 참조 : https://www.tensorflow.org/tutorials/generative/cvae?hl=ko"
      ]
    },
    {
      "cell_type": "markdown",
      "metadata": {
        "id": "e1_Y75QXJS6h"
      },
      "source": [
        "## 모듈 설치"
      ]
    },
    {
      "cell_type": "code",
      "metadata": {
        "id": "P-JuIu2N_SQf"
      },
      "source": [
        ""
      ],
      "execution_count": null,
      "outputs": []
    },
    {
      "cell_type": "code",
      "metadata": {
        "id": "YfIk2es3hJEd"
      },
      "source": [
        ""
      ],
      "execution_count": null,
      "outputs": []
    },
    {
      "cell_type": "markdown",
      "metadata": {
        "id": "iYn4MdZnKCey"
      },
      "source": [
        "## 데이터 로드"
      ]
    },
    {
      "cell_type": "code",
      "metadata": {
        "id": "a4fYMGxGhrna"
      },
      "source": [
        ""
      ],
      "execution_count": null,
      "outputs": []
    },
    {
      "cell_type": "code",
      "metadata": {
        "id": "NhIG4lijPiAQ"
      },
      "source": [
        ""
      ],
      "execution_count": null,
      "outputs": []
    },
    {
      "cell_type": "markdown",
      "metadata": {
        "id": "zSIJQvcbPZ9z"
      },
      "source": [
        "## 데이터 전처리"
      ]
    },
    {
      "cell_type": "code",
      "metadata": {
        "id": "NFC2ghIdiZYE"
      },
      "source": [
        ""
      ],
      "execution_count": null,
      "outputs": []
    },
    {
      "cell_type": "code",
      "metadata": {
        "id": "_2Me98uqPckY"
      },
      "source": [
        ""
      ],
      "execution_count": null,
      "outputs": []
    },
    {
      "cell_type": "code",
      "metadata": {
        "id": "3eND2fTiPhmU"
      },
      "source": [
        ""
      ],
      "execution_count": null,
      "outputs": []
    },
    {
      "cell_type": "code",
      "metadata": {
        "id": "S4PIDhoDLbsZ"
      },
      "source": [
        ""
      ],
      "execution_count": null,
      "outputs": []
    },
    {
      "cell_type": "markdown",
      "metadata": {
        "id": "PIGN6ouoQxt3"
      },
      "source": [
        "## tf.data 를 사용하여 데이터 일괄 처리 및 섞기"
      ]
    },
    {
      "cell_type": "code",
      "metadata": {
        "id": "-yKCCQOoJ7cn"
      },
      "source": [
        ""
      ],
      "execution_count": null,
      "outputs": []
    },
    {
      "cell_type": "markdown",
      "metadata": {
        "id": "THY-sZMiQ4UV"
      },
      "source": [
        "## 인코더, 디코더 모델 구성\n",
        "\n",
        "- VAE 예제에서는 인코더 및 디코더 네트워크에 두 개의 작은 ConvNet을 사용\n",
        "\n",
        "- 자세한 네트워크 구성 설명은 링크 참조\n",
        " \n",
        "  - https://www.tensorflow.org/tutorials/generative/cvae?hl=ko"
      ]
    },
    {
      "cell_type": "code",
      "metadata": {
        "id": "VGLbvBEmjK0a"
      },
      "source": [
        ""
      ],
      "execution_count": null,
      "outputs": []
    },
    {
      "cell_type": "markdown",
      "metadata": {
        "id": "0FMYgY_mPfTi"
      },
      "source": [
        "## 손실 함수 및 최적화 프로그램 정의\n",
        "\n",
        "- VAE는 한계 로그 우도에서 증거 하한 (ELBO)을 최대화하여 학습\n",
        "\n",
        "$$\\log p(x) \\ge \\text{ELBO} = \\mathbb{E}_{q(z|x)}\\left[\\log \\frac{p(x, z)}{q(z|x)}\\right].$$\n",
        "\n",
        "- 실제로 우리는이 기대치의 단일 샘플 Monte Carlo 추정치를 최적화\n",
        "\n",
        "$$\\log p(x| z) + \\log p(z) - \\log q(z|x),$$\n",
        "\n",
        "\n"
      ]
    },
    {
      "cell_type": "code",
      "metadata": {
        "id": "5yu0T6zZQ2yn"
      },
      "source": [
        ""
      ],
      "execution_count": null,
      "outputs": []
    },
    {
      "cell_type": "code",
      "metadata": {
        "id": "iWCn_PVdEJZ7"
      },
      "source": [
        ""
      ],
      "execution_count": null,
      "outputs": []
    },
    {
      "cell_type": "markdown",
      "metadata": {
        "id": "Rw1fkAczTQYh"
      },
      "source": [
        "## 모델 학습 및 이미지 생성"
      ]
    },
    {
      "cell_type": "code",
      "metadata": {
        "id": "KvWlFXs2RCkN"
      },
      "source": [
        ""
      ],
      "execution_count": null,
      "outputs": []
    },
    {
      "cell_type": "code",
      "metadata": {
        "id": "NS2GWywBbAWo"
      },
      "source": [
        ""
      ],
      "execution_count": null,
      "outputs": []
    },
    {
      "cell_type": "code",
      "metadata": {
        "id": "RmdVsmvhPxyy"
      },
      "source": [
        ""
      ],
      "execution_count": null,
      "outputs": []
    },
    {
      "cell_type": "code",
      "metadata": {
        "id": "swCyrbqQQ-Ri"
      },
      "source": [
        ""
      ],
      "execution_count": null,
      "outputs": []
    },
    {
      "cell_type": "code",
      "metadata": {
        "id": "QPRuEWrTRKHS"
      },
      "source": [
        ""
      ],
      "execution_count": null,
      "outputs": []
    },
    {
      "cell_type": "code",
      "metadata": {
        "id": "2M7LmLtGEMQJ"
      },
      "source": [
        ""
      ],
      "execution_count": null,
      "outputs": []
    },
    {
      "cell_type": "markdown",
      "metadata": {
        "id": "DEWuV_YBU_Fo"
      },
      "source": [
        "## 학습 시각화\n"
      ]
    },
    {
      "cell_type": "markdown",
      "metadata": {
        "id": "P4M_vIbUi7c0"
      },
      "source": [
        "- 마지막 훈련 스텝에서 생성 된 이미지 표"
      ]
    },
    {
      "cell_type": "code",
      "metadata": {
        "id": "WfO5wCdclHGL"
      },
      "source": [
        ""
      ],
      "execution_count": null,
      "outputs": []
    },
    {
      "cell_type": "code",
      "metadata": {
        "id": "5x3q9_Oe5q0A"
      },
      "source": [
        ""
      ],
      "execution_count": null,
      "outputs": []
    },
    {
      "cell_type": "markdown",
      "metadata": {
        "id": "NywiH3nL8guF"
      },
      "source": [
        "- 저장된 모든 이미지의 애니메이션 GIF 표시"
      ]
    },
    {
      "cell_type": "code",
      "metadata": {
        "id": "IGKQgENQ8lEI"
      },
      "source": [
        ""
      ],
      "execution_count": null,
      "outputs": []
    },
    {
      "cell_type": "code",
      "metadata": {
        "id": "2ZqAEtdqUmJF"
      },
      "source": [
        ""
      ],
      "execution_count": null,
      "outputs": []
    },
    {
      "cell_type": "markdown",
      "metadata": {
        "id": "PeunRU6TSumT"
      },
      "source": [
        "- 잠재 공간에서 2D 다양한 숫자 표시"
      ]
    },
    {
      "cell_type": "code",
      "metadata": {
        "cellView": "code",
        "id": "mNcaaYPBS3mj"
      },
      "source": [
        ""
      ],
      "execution_count": null,
      "outputs": []
    },
    {
      "cell_type": "code",
      "metadata": {
        "id": "F-ZG69QCZnGY"
      },
      "source": [
        ""
      ],
      "execution_count": null,
      "outputs": []
    }
  ]
}